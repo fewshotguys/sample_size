{
 "cells": [
  {
   "cell_type": "markdown",
   "metadata": {},
   "source": [
    "## Сравнение классов датасетов MSCOCO 2017 и PASCAL VOC 2012"
   ]
  },
  {
   "cell_type": "markdown",
   "metadata": {},
   "source": [
    "Загрузим классы датасетов COCO и PASCAL"
   ]
  },
  {
   "cell_type": "code",
   "execution_count": 1,
   "metadata": {},
   "outputs": [],
   "source": [
    "import os\n",
    "MODELS_PATH = '/home/kmouraviev/models/research'\n",
    "OBJECT_DETECTION_PATH = os.path.join(MODELS_PATH, 'object_detection')"
   ]
  },
  {
   "cell_type": "code",
   "execution_count": 2,
   "metadata": {},
   "outputs": [],
   "source": [
    "import sys\n",
    "sys.path.append(MODELS_PATH)\n",
    "sys.path.append(os.path.join(MODELS_PATH, 'slim'))"
   ]
  },
  {
   "cell_type": "code",
   "execution_count": 3,
   "metadata": {},
   "outputs": [],
   "source": [
    "PATH_TO_COCO_LABELS = os.path.join(OBJECT_DETECTION_PATH, 'data/mscoco_label_map.pbtxt')\n",
    "PATH_TO_PASCAL_LABELS = os.path.join(OBJECT_DETECTION_PATH, 'data/pascal_label_map.pbtxt')"
   ]
  },
  {
   "cell_type": "code",
   "execution_count": 4,
   "metadata": {},
   "outputs": [],
   "source": [
    "from object_detection.utils import label_map_util\n",
    "from object_detection.utils import visualization_utils as vis_util"
   ]
  },
  {
   "cell_type": "code",
   "execution_count": 5,
   "metadata": {},
   "outputs": [],
   "source": [
    "coco_category_index = label_map_util.create_category_index_from_labelmap(PATH_TO_COCO_LABELS,\n",
    "                                                                         use_display_name=True\n",
    "                                                                        )\n",
    "pascal_category_index = label_map_util.create_category_index_from_labelmap(PATH_TO_PASCAL_LABELS,\n",
    "                                                                         use_display_name=True\n",
    "                                                                        )"
   ]
  },
  {
   "cell_type": "code",
   "execution_count": 14,
   "metadata": {
    "scrolled": true
   },
   "outputs": [],
   "source": [
    "coco_classes = [x['name'] for x in coco_category_index.values()]\n",
    "pascal_classes = [x['name'] for x in pascal_category_index.values()]"
   ]
  },
  {
   "cell_type": "markdown",
   "metadata": {},
   "source": [
    "Посмотрим классы датасета COCO"
   ]
  },
  {
   "cell_type": "code",
   "execution_count": 16,
   "metadata": {
    "collapsed": true
   },
   "outputs": [
    {
     "name": "stdout",
     "output_type": "stream",
     "text": [
      "COCO dataset classes:\n",
      "person\n",
      "bicycle\n",
      "car\n",
      "motorcycle\n",
      "airplane\n",
      "bus\n",
      "train\n",
      "truck\n",
      "boat\n",
      "traffic light\n",
      "fire hydrant\n",
      "stop sign\n",
      "parking meter\n",
      "bench\n",
      "bird\n",
      "cat\n",
      "dog\n",
      "horse\n",
      "sheep\n",
      "cow\n",
      "elephant\n",
      "bear\n",
      "zebra\n",
      "giraffe\n",
      "backpack\n",
      "umbrella\n",
      "handbag\n",
      "tie\n",
      "suitcase\n",
      "frisbee\n",
      "skis\n",
      "snowboard\n",
      "sports ball\n",
      "kite\n",
      "baseball bat\n",
      "baseball glove\n",
      "skateboard\n",
      "surfboard\n",
      "tennis racket\n",
      "bottle\n",
      "wine glass\n",
      "cup\n",
      "fork\n",
      "knife\n",
      "spoon\n",
      "bowl\n",
      "banana\n",
      "apple\n",
      "sandwich\n",
      "orange\n",
      "broccoli\n",
      "carrot\n",
      "hot dog\n",
      "pizza\n",
      "donut\n",
      "cake\n",
      "chair\n",
      "couch\n",
      "potted plant\n",
      "bed\n",
      "dining table\n",
      "toilet\n",
      "tv\n",
      "laptop\n",
      "mouse\n",
      "remote\n",
      "keyboard\n",
      "cell phone\n",
      "microwave\n",
      "oven\n",
      "toaster\n",
      "sink\n",
      "refrigerator\n",
      "book\n",
      "clock\n",
      "vase\n",
      "scissors\n",
      "teddy bear\n",
      "hair drier\n",
      "toothbrush\n",
      "Totally 80 classes\n"
     ]
    }
   ],
   "source": [
    "print('COCO dataset classes:')\n",
    "for x in coco_classes:\n",
    "    print(x)\n",
    "print('Totally {} classes'.format(len(coco_classes)))"
   ]
  },
  {
   "cell_type": "markdown",
   "metadata": {},
   "source": [
    "И классы датасета PASCAL"
   ]
  },
  {
   "cell_type": "code",
   "execution_count": 17,
   "metadata": {
    "collapsed": true
   },
   "outputs": [
    {
     "name": "stdout",
     "output_type": "stream",
     "text": [
      "PASCAL dataset classes:\n",
      "aeroplane\n",
      "bicycle\n",
      "bird\n",
      "boat\n",
      "bottle\n",
      "bus\n",
      "car\n",
      "cat\n",
      "chair\n",
      "cow\n",
      "diningtable\n",
      "dog\n",
      "horse\n",
      "motorbike\n",
      "person\n",
      "pottedplant\n",
      "sheep\n",
      "sofa\n",
      "train\n",
      "tvmonitor\n",
      "Totally 20 classes\n"
     ]
    }
   ],
   "source": [
    "print('PASCAL dataset classes:')\n",
    "for x in pascal_classes:\n",
    "    print(x)\n",
    "print('Totally {} classes'.format(len(pascal_classes)))"
   ]
  },
  {
   "cell_type": "markdown",
   "metadata": {},
   "source": [
    "Посмотрим, сколько общих классов, и сколько классов встречаются только в одном датасете"
   ]
  },
  {
   "cell_type": "code",
   "execution_count": 18,
   "metadata": {},
   "outputs": [
    {
     "name": "stdout",
     "output_type": "stream",
     "text": [
      "There are 14 common classes\n",
      "There are 66 unique classes in COCO\n",
      "There are 6 unique classes in PASCAL\n"
     ]
    }
   ],
   "source": [
    "n_common_classes = len(set(coco_classes) & set(pascal_classes))\n",
    "print('There are {} common classes'.format(n_common_classes))\n",
    "print('There are {} unique classes in COCO'.format(len(coco_classes) - n_common_classes))\n",
    "print('There are {} unique classes in PASCAL'.format(len(pascal_classes) - n_common_classes))"
   ]
  },
  {
   "cell_type": "markdown",
   "metadata": {},
   "source": [
    "Посмотрим классы датасета PASCAL, не встречающиеся в COCO"
   ]
  },
  {
   "cell_type": "code",
   "execution_count": 19,
   "metadata": {},
   "outputs": [
    {
     "name": "stdout",
     "output_type": "stream",
     "text": [
      "PASCAL's own classes: ['tvmonitor', 'sofa', 'aeroplane', 'pottedplant', 'diningtable', 'motorbike']\n"
     ]
    }
   ],
   "source": [
    "print(\"PASCAL's own classes:\", list(set(pascal_classes) - set(coco_classes)))"
   ]
  },
  {
   "cell_type": "markdown",
   "metadata": {},
   "source": [
    "Классам `tvmonitor, aeroplane, motorbike, diningtable, sofa, pottedplant` датасета PASCAL соответствуют классы `tv, airplane, motorcycle, dining table, couch, potted plant` датасета COCO. Так что уникальные классы датасета PASCAL - это только sofa и pottedplant."
   ]
  },
  {
   "cell_type": "markdown",
   "metadata": {},
   "source": [
    "### Итог: в датасете PASCAL VOC 2012 нет классов, не встречающихся в MSCOCO 2017"
   ]
  },
  {
   "cell_type": "code",
   "execution_count": null,
   "metadata": {},
   "outputs": [],
   "source": []
  }
 ],
 "metadata": {
  "kernelspec": {
   "display_name": "Python 3",
   "language": "python",
   "name": "python3"
  },
  "language_info": {
   "codemirror_mode": {
    "name": "ipython",
    "version": 3
   },
   "file_extension": ".py",
   "mimetype": "text/x-python",
   "name": "python",
   "nbconvert_exporter": "python",
   "pygments_lexer": "ipython3",
   "version": "3.6.7"
  }
 },
 "nbformat": 4,
 "nbformat_minor": 2
}
